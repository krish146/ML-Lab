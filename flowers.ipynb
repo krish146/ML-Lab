{
 "cells": [
  {
   "cell_type": "code",
   "execution_count": 3,
   "id": "87fe8b78",
   "metadata": {},
   "outputs": [],
   "source": [
    "import pandas as pd\n"
   ]
  },
  {
   "cell_type": "code",
   "execution_count": 4,
   "id": "4bc06f75",
   "metadata": {},
   "outputs": [
    {
     "name": "stdout",
     "output_type": "stream",
     "text": [
      "Sepal Length: 4.3, 7.9, 5.843333333333335, 0.8280661279778629\n",
      "Sepal Width: 2.0, 4.4, 3.0540000000000007, 0.4335943113621737\n",
      "Petal Length: 1.0, 6.9, 3.7586666666666693, 1.7644204199522617\n",
      "Petal Width: 0.1, 2.5, 1.1986666666666672, 0.7631607417008414\n",
      "Class Correlation for Iris-setosa: 0.2638740929186871\n",
      "Class Correlation for Iris-versicolor: 0.754048958592016\n",
      "Class Correlation for Iris-virginica: 0.8642247329355763\n"
     ]
    }
   ],
   "source": [
    "class Statistics:\n",
    "    def __init__(self, name):\n",
    "        self.name = name\n",
    "        self.min_value = None\n",
    "        self.max_value = None\n",
    "        self.mean_value = None\n",
    "        self.standard_deviation = None\n",
    "    \n",
    "    def print_stats(self):\n",
    "        print(f\"{self.name}: {self.min_value}, {self.max_value}, {self.mean_value}, {self.standard_deviation}\")\n",
    "\n",
    "column_names = ['sepal_length', 'sepal_width', 'petal_length', 'petal_width', 'class']\n",
    "data = pd.read_csv('iris.data', sep=\",\", names=column_names)\n",
    "\n",
    "# Statistics\n",
    "sepal_length_stats = Statistics('Sepal Length')\n",
    "sepal_length_stats.min_value = min(data.iloc[:, 0])\n",
    "sepal_length_stats.max_value = max(data.iloc[:, 0])\n",
    "sepal_length_stats.mean_value = data.iloc[:, 0].mean()\n",
    "sepal_length_stats.standard_deviation = data.iloc[:, 0].std()\n",
    "sepal_length_stats.print_stats()\n",
    "\n",
    "sepal_width_stats = Statistics('Sepal Width')\n",
    "sepal_width_stats.min_value = min(data.iloc[:, 1])\n",
    "sepal_width_stats.max_value = max(data.iloc[:, 1])\n",
    "sepal_width_stats.mean_value = data.iloc[:, 1].mean()\n",
    "sepal_width_stats.standard_deviation = data.iloc[:, 1].std()\n",
    "sepal_width_stats.print_stats()\n",
    "\n",
    "petal_length_stats = Statistics('Petal Length')\n",
    "petal_length_stats.min_value = min(data.iloc[:, 2])\n",
    "petal_length_stats.max_value = max(data.iloc[:, 2])\n",
    "petal_length_stats.mean_value = data.iloc[:, 2].mean()\n",
    "petal_length_stats.standard_deviation = data.iloc[:, 2].std()\n",
    "petal_length_stats.print_stats()\n",
    "\n",
    "petal_width_stats = Statistics('Petal Width')\n",
    "petal_width_stats.min_value = min(data.iloc[:, 3])\n",
    "petal_width_stats.max_value = max(data.iloc[:, 3])\n",
    "petal_width_stats.mean_value = data.iloc[:, 3].mean()\n",
    "petal_width_stats.standard_deviation = data.iloc[:, 3].std()\n",
    "petal_width_stats.print_stats()\n",
    "\n",
    "# Class Correlation\n",
    "for iris_class in data['class'].unique():\n",
    "    correlation = data[data['class'] == iris_class][['sepal_length', 'petal_length']].corr().iloc[0, 1]\n",
    "    print(f'Class Correlation for {iris_class}: {correlation}')\n"
   ]
  },
  {
   "cell_type": "code",
   "execution_count": null,
   "id": "2afb2065",
   "metadata": {},
   "outputs": [],
   "source": []
  }
 ],
 "metadata": {
  "kernelspec": {
   "display_name": "Python 3 (ipykernel)",
   "language": "python",
   "name": "python3"
  },
  "language_info": {
   "codemirror_mode": {
    "name": "ipython",
    "version": 3
   },
   "file_extension": ".py",
   "mimetype": "text/x-python",
   "name": "python",
   "nbconvert_exporter": "python",
   "pygments_lexer": "ipython3",
   "version": "3.9.12"
  }
 },
 "nbformat": 4,
 "nbformat_minor": 5
}
